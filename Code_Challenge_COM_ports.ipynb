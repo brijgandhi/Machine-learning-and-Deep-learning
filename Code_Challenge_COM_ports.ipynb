{
  "nbformat": 4,
  "nbformat_minor": 0,
  "metadata": {
    "colab": {
      "provenance": [],
      "authorship_tag": "ABX9TyNGux8ALT55DBMiOimQxsoG",
      "include_colab_link": true
    },
    "kernelspec": {
      "name": "python3",
      "display_name": "Python 3"
    },
    "language_info": {
      "name": "python"
    }
  },
  "cells": [
    {
      "cell_type": "markdown",
      "metadata": {
        "id": "view-in-github",
        "colab_type": "text"
      },
      "source": [
        "<a href=\"https://colab.research.google.com/github/brijgandhi/Machine-learning-and-Deep-learning/blob/main/Code_Challenge_COM_ports.ipynb\" target=\"_parent\"><img src=\"https://colab.research.google.com/assets/colab-badge.svg\" alt=\"Open In Colab\"/></a>"
      ]
    },
    {
      "cell_type": "markdown",
      "source": [
        "**Installing the required libraries**\n"
      ],
      "metadata": {
        "id": "vVJE9aAMFvxp"
      }
    },
    {
      "cell_type": "code",
      "execution_count": 1,
      "metadata": {
        "colab": {
          "base_uri": "https://localhost:8080/"
        },
        "id": "JfAk5_RnFkLY",
        "outputId": "50e4f082-daf0-40f5-cd88-43c4660de2af"
      },
      "outputs": [
        {
          "output_type": "stream",
          "name": "stdout",
          "text": [
            "Collecting pyserial\n",
            "  Downloading pyserial-3.5-py2.py3-none-any.whl (90 kB)\n",
            "\u001b[?25l     \u001b[90m━━━━━━━━━━━━━━━━━━━━━━━━━━━━━━━━━━━━━━━━\u001b[0m \u001b[32m0.0/90.6 kB\u001b[0m \u001b[31m?\u001b[0m eta \u001b[36m-:--:--\u001b[0m\r\u001b[2K     \u001b[91m━━━━━━━━━━━━━━━━━━━━━━━━━━━━━━━━━━━━\u001b[0m\u001b[90m╺\u001b[0m\u001b[90m━━━\u001b[0m \u001b[32m81.9/90.6 kB\u001b[0m \u001b[31m2.8 MB/s\u001b[0m eta \u001b[36m0:00:01\u001b[0m\r\u001b[2K     \u001b[90m━━━━━━━━━━━━━━━━━━━━━━━━━━━━━━━━━━━━━━━━\u001b[0m \u001b[32m90.6/90.6 kB\u001b[0m \u001b[31m2.2 MB/s\u001b[0m eta \u001b[36m0:00:00\u001b[0m\n",
            "\u001b[?25hInstalling collected packages: pyserial\n",
            "Successfully installed pyserial-3.5\n"
          ]
        }
      ],
      "source": [
        "!pip install pyserial"
      ]
    },
    {
      "cell_type": "markdown",
      "source": [
        "**Python Script that discovers available COM ports, establishes connections to the virtual COM ports, and simulates data transfer**"
      ],
      "metadata": {
        "id": "wTQ7z2qYFz1L"
      }
    },
    {
      "cell_type": "code",
      "source": [
        "import serial\n",
        "import threading\n",
        "import serial.tools.list_ports\n",
        "\n",
        "# Function to discover and print available COM ports\n",
        "def discover_com_ports():\n",
        "    com_ports = list(serial.tools.list_ports.comports())\n",
        "    if not com_ports:\n",
        "        print(\"No COM ports available.\")\n",
        "    else:\n",
        "        print(\"Available COM ports:\")\n",
        "        for port, desc, _ in com_ports:\n",
        "            print(f\"{port}: {desc}\")\n",
        "\n",
        "# Function for the first thread (writing data to COM10)\n",
        "def write_to_com10():\n",
        "    with serial.Serial(\"COM10\", 9600, timeout=1) as ser:\n",
        "        while True:\n",
        "            data = \"Hello from COM10\\n\"\n",
        "            ser.write(data.encode())\n",
        "            print(f\"Sent to COM10: {data.strip()}\")\n",
        "\n",
        "# Function for the second thread (reading data from COM11)\n",
        "def read_from_com11():\n",
        "    with serial.Serial(\"COM11\", 9600, timeout=1) as ser:\n",
        "        while True:\n",
        "            data = ser.readline()\n",
        "            if data:\n",
        "                print(f\"Received from COM11: {data.decode().strip()}\")\n",
        "\n",
        "if __name__ == \"__main__\":\n",
        "    # Discover and print available COM ports\n",
        "    discover_com_ports()\n",
        "\n",
        "    # Create and start the first thread (writing to COM10)\n",
        "    thread1 = threading.Thread(target=write_to_com10)\n",
        "    thread1.start()\n",
        "\n",
        "    # Create and start the second thread (reading from COM11)\n",
        "    thread2 = threading.Thread(target=read_from_com11)\n",
        "    thread2.start()\n",
        "\n",
        "    # Keep the main thread running\n",
        "    thread1.join()\n",
        "    thread2.join()\n"
      ],
      "metadata": {
        "id": "BhJ8cNd6FqDW"
      },
      "execution_count": null,
      "outputs": []
    }
  ]
}